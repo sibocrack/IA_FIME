{
  "nbformat": 4,
  "nbformat_minor": 0,
  "metadata": {
    "colab": {
      "provenance": []
    },
    "kernelspec": {
      "name": "python3",
      "display_name": "Python 3"
    },
    "language_info": {
      "name": "python"
    }
  },
  "cells": [
    {
      "cell_type": "markdown",
      "source": [
        "A1: Ejercicios en Python\n",
        "Heidi Siboney Martinez Reyna\n",
        "1950535\n",
        "N3-N6\n"
      ],
      "metadata": {
        "id": "DwLH9ECkh0my"
      }
    },
    {
      "cell_type": "code",
      "execution_count": 1,
      "metadata": {
        "id": "f1lQtPZOhpaQ",
        "colab": {
          "base_uri": "https://localhost:8080/"
        },
        "outputId": "f69b1e2b-e24b-4828-d324-f344fd930993"
      },
      "outputs": [
        {
          "output_type": "stream",
          "name": "stdout",
          "text": [
            "Ingresa el primer numero: 3\n",
            "Ingresa el segundo numero:4\n",
            "7\n"
          ]
        }
      ],
      "source": [
        "#Ejercicio 1. Desarrolla un algoritmo que solicite al usuario dos números y muestre la suma de ambos.\n",
        "a = int(input(\"Ingresa el primer numero: \"))\n",
        "b = int(input(\"Ingresa el segundo numero:\"))\n",
        "\n",
        "print(a+b)"
      ]
    },
    {
      "cell_type": "code",
      "source": [
        "#Ejercicio 2. Desarrolla un algoritmo que calcule el factorial de un número ingresado por el usuario.\n",
        "def f(a):\n",
        "\n",
        "    if a < 0:\n",
        "        print(\"Intentacon un numero positivo\")\n",
        "\n",
        "    elif a == 0:\n",
        "        return 1\n",
        "\n",
        "    else:\n",
        "        f = 1\n",
        "        while(a > 1):\n",
        "            f *= a\n",
        "            a -= 1\n",
        "        return f\n",
        "\n",
        "a=int(input(\"Ingresa un numero: \"))\n",
        "\n",
        "print(\"Factorial of\",a,\"is\", f(a))"
      ],
      "metadata": {
        "colab": {
          "base_uri": "https://localhost:8080/"
        },
        "id": "F3XkpKppxvNg",
        "outputId": "333c17e2-d961-4e7e-e357-7c385552b396"
      },
      "execution_count": null,
      "outputs": [
        {
          "output_type": "stream",
          "name": "stdout",
          "text": [
            "Ingresa un numero: 7\n",
            "Factorial of 7 is 5040\n"
          ]
        }
      ]
    },
    {
      "cell_type": "code",
      "source": [
        "#Ejercicio 3. Desarrolla un algoritmo que tome una lista de números y un número objetivo,\n",
        "# y muestre la posición (índice) en la que se encuentra el número objetivo en la lista.\n",
        "\n",
        "def index(x, obj):\n",
        "    for i in range(len(x)):\n",
        "        if lista[i] == obj:\n",
        "            return i\n",
        "    return -1\n",
        "\n",
        "lista = [1, 6, 7, 10, 17, 24]\n",
        "obj = 7\n",
        "\n",
        "posicion = index(lista, obj)\n",
        "\n",
        "if posicion != -1:\n",
        "    print(f\"El número {obj} se encuentra en la posición {posicion} de la lista.\")\n",
        "else:\n",
        "    print(f\"El número {obj} no se encuentra en la lista.\")\n",
        "\n"
      ],
      "metadata": {
        "id": "DWnVA-Ve1nLB",
        "colab": {
          "base_uri": "https://localhost:8080/"
        },
        "outputId": "a889c6a4-1b97-4141-b572-86fa7b3f9b91"
      },
      "execution_count": 6,
      "outputs": [
        {
          "output_type": "stream",
          "name": "stdout",
          "text": [
            "El número 7 se encuentra en la posición 2 de la lista.\n"
          ]
        }
      ]
    },
    {
      "cell_type": "code",
      "source": [
        "#Ejercicio 4. Desarrolla un algoritmo que tome una cadena de texto\n",
        "# y determine si es un palíndromo (se lee igual de adelante hacia atrás y viceversa).\n",
        "\n",
        "def palindromo(a):\n",
        "    a = a.lower()\n",
        "    a = a.replace(\" \", \"\")\n",
        "    inicio = 0\n",
        "    fin = len(a) - 1\n",
        "    while a[inicio] == a[fin]:\n",
        "        if inicio >= fin:\n",
        "            return \"Es palindromo\"\n",
        "        inicio += 1\n",
        "        fin -= 1\n",
        "    return \"No es palindromo\"\n",
        "\n",
        "a=input(\"Ingresa una palabra o frase: \")\n",
        "print(palindromo(a))"
      ],
      "metadata": {
        "colab": {
          "base_uri": "https://localhost:8080/"
        },
        "id": "6D67GcQj-zt_",
        "outputId": "0a96195d-346f-48da-b3f8-ca104c60f21e"
      },
      "execution_count": 2,
      "outputs": [
        {
          "output_type": "stream",
          "name": "stdout",
          "text": [
            "Ingresa una palabra o frase: oso\n",
            "Es palindromo\n"
          ]
        }
      ]
    }
  ]
}